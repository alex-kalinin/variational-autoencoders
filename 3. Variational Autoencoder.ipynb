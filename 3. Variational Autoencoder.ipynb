{
 "cells": [
  {
   "cell_type": "markdown",
   "id": "afce6030",
   "metadata": {
    "papermill": {
     "duration": 0.02284,
     "end_time": "2022-11-17T00:16:11.611163",
     "exception": false,
     "start_time": "2022-11-17T00:16:11.588323",
     "status": "completed"
    },
    "tags": []
   },
   "source": [
    "# Imports"
   ]
  },
  {
   "cell_type": "code",
   "execution_count": null,
   "id": "0de200e0",
   "metadata": {
    "execution": {
     "iopub.execute_input": "2022-11-17T00:16:11.632969Z",
     "iopub.status.busy": "2022-11-17T00:16:11.631944Z",
     "iopub.status.idle": "2022-11-17T00:16:11.659636Z",
     "shell.execute_reply": "2022-11-17T00:16:11.658839Z"
    },
    "papermill": {
     "duration": 0.04032,
     "end_time": "2022-11-17T00:16:11.662749",
     "exception": false,
     "start_time": "2022-11-17T00:16:11.622429",
     "status": "completed"
    },
    "tags": []
   },
   "outputs": [],
   "source": [
    "from PIL import Image, ImageDraw"
   ]
  },
  {
   "cell_type": "markdown",
   "id": "b8acc376",
   "metadata": {
    "papermill": {
     "duration": 0.007484,
     "end_time": "2022-11-17T00:16:11.677525",
     "exception": false,
     "start_time": "2022-11-17T00:16:11.670041",
     "status": "completed"
    },
    "tags": []
   },
   "source": [
    "Pytorch:"
   ]
  },
  {
   "cell_type": "code",
   "execution_count": null,
   "id": "91cb4681",
   "metadata": {
    "execution": {
     "iopub.execute_input": "2022-11-17T00:16:11.693783Z",
     "iopub.status.busy": "2022-11-17T00:16:11.693305Z",
     "iopub.status.idle": "2022-11-17T00:16:12.297927Z",
     "shell.execute_reply": "2022-11-17T00:16:12.297399Z"
    },
    "papermill": {
     "duration": 0.615503,
     "end_time": "2022-11-17T00:16:12.300087",
     "exception": false,
     "start_time": "2022-11-17T00:16:11.684584",
     "status": "completed"
    },
    "tags": []
   },
   "outputs": [],
   "source": [
    "import torch\n",
    "from torch import nn\n",
    "import torchvision.transforms as transforms"
   ]
  },
  {
   "cell_type": "markdown",
   "id": "ba78ad8f",
   "metadata": {
    "papermill": {
     "duration": 0.008931,
     "end_time": "2022-11-17T00:16:12.321575",
     "exception": false,
     "start_time": "2022-11-17T00:16:12.312644",
     "status": "completed"
    },
    "tags": []
   },
   "source": [
    "Numpy and graphs:"
   ]
  },
  {
   "cell_type": "code",
   "execution_count": null,
   "id": "b0c1f879",
   "metadata": {
    "execution": {
     "iopub.execute_input": "2022-11-17T00:16:12.337671Z",
     "iopub.status.busy": "2022-11-17T00:16:12.337355Z",
     "iopub.status.idle": "2022-11-17T00:16:12.757414Z",
     "shell.execute_reply": "2022-11-17T00:16:12.756673Z"
    },
    "papermill": {
     "duration": 0.430407,
     "end_time": "2022-11-17T00:16:12.759425",
     "exception": false,
     "start_time": "2022-11-17T00:16:12.329018",
     "status": "completed"
    },
    "tags": []
   },
   "outputs": [],
   "source": [
    "import numpy as np\n",
    "import matplotlib.pyplot as plt\n",
    "import os\n",
    "import timeit\n",
    "from datetime import timedelta\n",
    "import sys\n",
    "import random\n",
    "from typing import List, Tuple"
   ]
  },
  {
   "cell_type": "markdown",
   "id": "0180b133",
   "metadata": {
    "execution": {
     "iopub.execute_input": "2022-10-07T19:39:25.750133Z",
     "iopub.status.busy": "2022-10-07T19:39:25.749711Z",
     "iopub.status.idle": "2022-10-07T19:39:25.757736Z",
     "shell.execute_reply": "2022-10-07T19:39:25.755928Z",
     "shell.execute_reply.started": "2022-10-07T19:39:25.750098Z"
    },
    "papermill": {
     "duration": 0.00736,
     "end_time": "2022-11-17T00:16:12.774540",
     "exception": false,
     "start_time": "2022-11-17T00:16:12.767180",
     "status": "completed"
    },
    "tags": []
   },
   "source": [
    "We will keep variables inside an object to avoid pulluting the global namespace and prevent various bugs. The defition below allows adding attributes at runtime:"
   ]
  },
  {
   "cell_type": "code",
   "execution_count": null,
   "id": "b114e853",
   "metadata": {
    "execution": {
     "iopub.execute_input": "2022-11-17T00:16:12.791031Z",
     "iopub.status.busy": "2022-11-17T00:16:12.790243Z",
     "iopub.status.idle": "2022-11-17T00:16:12.796274Z",
     "shell.execute_reply": "2022-11-17T00:16:12.795251Z"
    },
    "papermill": {
     "duration": 0.015911,
     "end_time": "2022-11-17T00:16:12.797743",
     "exception": false,
     "start_time": "2022-11-17T00:16:12.781832",
     "status": "completed"
    },
    "tags": []
   },
   "outputs": [],
   "source": [
    "class Object(object):\n",
    "    pass\n",
    "\n",
    "# We'll store all our variables here.\n",
    "t = Object()"
   ]
  },
  {
   "cell_type": "markdown",
   "id": "363d5cb4",
   "metadata": {
    "papermill": {
     "duration": 0.008235,
     "end_time": "2022-11-17T00:16:12.814369",
     "exception": false,
     "start_time": "2022-11-17T00:16:12.806134",
     "status": "completed"
    },
    "tags": []
   },
   "source": [
    "# Prepare - Generate Cylinder Images"
   ]
  },
  {
   "cell_type": "markdown",
   "id": "448b91c5",
   "metadata": {
    "papermill": {
     "duration": 0.007156,
     "end_time": "2022-11-17T00:16:12.828749",
     "exception": false,
     "start_time": "2022-11-17T00:16:12.821593",
     "status": "completed"
    },
    "tags": []
   },
   "source": [
    "Clean up previously generated images."
   ]
  },
  {
   "cell_type": "code",
   "execution_count": null,
   "id": "d1db10e0",
   "metadata": {
    "execution": {
     "iopub.execute_input": "2022-11-17T00:16:12.845474Z",
     "iopub.status.busy": "2022-11-17T00:16:12.844691Z",
     "iopub.status.idle": "2022-11-17T00:16:12.849592Z",
     "shell.execute_reply": "2022-11-17T00:16:12.848568Z"
    },
    "papermill": {
     "duration": 0.015001,
     "end_time": "2022-11-17T00:16:12.850899",
     "exception": false,
     "start_time": "2022-11-17T00:16:12.835898",
     "status": "completed"
    },
    "tags": [
     "parameters"
    ]
   },
   "outputs": [],
   "source": [
    "pm_kl_factor = 15"
   ]
  },
  {
   "cell_type": "code",
   "execution_count": null,
   "id": "3d4df448",
   "metadata": {
    "execution": {
     "iopub.execute_input": "2022-11-17T00:16:12.890600Z",
     "iopub.status.busy": "2022-11-17T00:16:12.890394Z",
     "iopub.status.idle": "2022-11-17T00:16:12.894376Z",
     "shell.execute_reply": "2022-11-17T00:16:12.893415Z"
    },
    "papermill": {
     "duration": 0.013807,
     "end_time": "2022-11-17T00:16:12.895625",
     "exception": false,
     "start_time": "2022-11-17T00:16:12.881818",
     "status": "completed"
    },
    "tags": []
   },
   "outputs": [],
   "source": [
    "t.image_folder = f\"images/_cylinders_{pm_kl_factor}\""
   ]
  },
  {
   "cell_type": "code",
   "execution_count": null,
   "id": "daa6edb4",
   "metadata": {
    "execution": {
     "iopub.execute_input": "2022-11-17T00:16:12.910945Z",
     "iopub.status.busy": "2022-11-17T00:16:12.910717Z",
     "iopub.status.idle": "2022-11-17T00:16:13.165148Z",
     "shell.execute_reply": "2022-11-17T00:16:13.163568Z"
    },
    "papermill": {
     "duration": 0.265915,
     "end_time": "2022-11-17T00:16:13.168772",
     "exception": false,
     "start_time": "2022-11-17T00:16:12.902857",
     "status": "completed"
    },
    "tags": []
   },
   "outputs": [],
   "source": [
    "!rm -rf images/_cylinders_{pm_kl_factor}\n",
    "!mkdir -p output"
   ]
  },
  {
   "cell_type": "markdown",
   "id": "45bdf141",
   "metadata": {
    "papermill": {
     "duration": 0.011569,
     "end_time": "2022-11-17T00:16:13.201462",
     "exception": false,
     "start_time": "2022-11-17T00:16:13.189893",
     "status": "completed"
    },
    "tags": []
   },
   "source": [
    "The code below generates cylinder images that we will use for training. We don't use this code directly anywhere else. You can pre-generate images, save them, and use the training part separately."
   ]
  },
  {
   "cell_type": "code",
   "execution_count": null,
   "id": "53426f99",
   "metadata": {
    "execution": {
     "iopub.execute_input": "2022-11-17T00:16:13.219749Z",
     "iopub.status.busy": "2022-11-17T00:16:13.219180Z",
     "iopub.status.idle": "2022-11-17T00:16:13.229398Z",
     "shell.execute_reply": "2022-11-17T00:16:13.228406Z"
    },
    "papermill": {
     "duration": 0.022459,
     "end_time": "2022-11-17T00:16:13.232386",
     "exception": false,
     "start_time": "2022-11-17T00:16:13.209927",
     "status": "completed"
    },
    "tags": []
   },
   "outputs": [],
   "source": [
    "class ImageContainer:\n",
    "    def __init__(self, image: Image, wh: Tuple[int, int]):\n",
    "        self.image = image\n",
    "        self.wh = wh\n",
    "        \n",
    "    def save_to_dir(self, image_dir, image_index):\n",
    "        w, h = self.wh\n",
    "        save_path = f\"{image_dir}/image_{w}_{h}_{image_index}.png\"\n",
    "        self.image.save(save_path, cmap=\"gray\")\n",
    "        \n",
    "    def get_image(self) -> Image:\n",
    "        return self.image"
   ]
  },
  {
   "cell_type": "markdown",
   "id": "5c7eced3",
   "metadata": {
    "papermill": {
     "duration": 0.010766,
     "end_time": "2022-11-17T00:16:13.261730",
     "exception": false,
     "start_time": "2022-11-17T00:16:13.250964",
     "status": "completed"
    },
    "tags": []
   },
   "source": [
    "A function to draw images of cylinders:"
   ]
  },
  {
   "cell_type": "code",
   "execution_count": null,
   "id": "d2715c9e",
   "metadata": {
    "execution": {
     "iopub.execute_input": "2022-11-17T00:16:13.278144Z",
     "iopub.status.busy": "2022-11-17T00:16:13.277911Z",
     "iopub.status.idle": "2022-11-17T00:16:13.287141Z",
     "shell.execute_reply": "2022-11-17T00:16:13.286319Z"
    },
    "papermill": {
     "duration": 0.020058,
     "end_time": "2022-11-17T00:16:13.289897",
     "exception": false,
     "start_time": "2022-11-17T00:16:13.269839",
     "status": "completed"
    },
    "tags": []
   },
   "outputs": [],
   "source": [
    "def draw_cylinder(wh: tuple, image_size) -> ImageContainer: \n",
    "    w, h = wh\n",
    "    background_color = 0\n",
    "    figure_color = 200\n",
    "    line_thickness = 2\n",
    "    ellipse_h = 10 # int(min(image_size / 6, h / 3))\n",
    "    im = Image.new(\"L\", (image_size, image_size))\n",
    "    \n",
    "    draw = ImageDraw.Draw(im)\n",
    "    draw.rectangle([0, 0, im.size[0], im.size[1]], \n",
    "                   fill=background_color,\n",
    "                   outline=figure_color)\n",
    "    \n",
    "    # Calculate offsets when drawing a bounding rectangle\n",
    "    im_w, im_h = im.size \n",
    "    x_offset = (im_w - w) / 2\n",
    "    y_offset = (im_h - h) / 2\n",
    "\n",
    "    # Sides\n",
    "    draw.line([x_offset, y_offset, x_offset, y_offset + h], width=line_thickness, fill=figure_color)\n",
    "    draw.line([x_offset + w, y_offset, x_offset + w, y_offset + h], width=line_thickness, fill=figure_color)\n",
    "    \n",
    "    \n",
    "    # top ellipse\n",
    "    draw.ellipse([\n",
    "        x_offset, \n",
    "        y_offset - ellipse_h / 2,\n",
    "        x_offset + w,\n",
    "        y_offset + ellipse_h / 2], \n",
    "        width=line_thickness,\n",
    "        outline=figure_color)\n",
    "    \n",
    "    # bottom ellipse\n",
    "    draw.ellipse([\n",
    "        x_offset, \n",
    "        y_offset - ellipse_h / 2 + h,\n",
    "        x_offset + w,\n",
    "        y_offset + ellipse_h / 2 + h], \n",
    "        width=line_thickness,\n",
    "        outline=figure_color)\n",
    "    \n",
    "    # hide the back side of the bottom ellipse\n",
    "    draw.rectangle([\n",
    "        x_offset + line_thickness , \n",
    "        y_offset - ellipse_h / 2 + h,\n",
    "        x_offset + w - line_thickness + 1,\n",
    "        y_offset + h], \n",
    "        fill=background_color, \n",
    "        width=line_thickness)\n",
    "    \n",
    "    # TODO: fill with shade\n",
    "    \n",
    "    return ImageContainer(im, wh)\n",
    "#------------------------------------------------------------------------------------\n",
    "def generate_cylinders(count, w_range, h_range, image_size) -> List[ImageContainer]:\n",
    "    images = []\n",
    "    for w in range(w_range[0], w_range[1] + 1):\n",
    "        for h in range(h_range[0], h_range[1] + 1):\n",
    "            images.append(draw_cylinder((w, h), image_size))\n",
    "    random.shuffle(images)\n",
    "    return images[0:count]\n",
    "#------------------------------------------------------------------------------------\n",
    "def save_images(output_folder, images):\n",
    "    print('Saving images to', output_folder)\n",
    "    for i, img in enumerate(images):\n",
    "        img.save_to_dir(output_folder, i)"
   ]
  },
  {
   "cell_type": "markdown",
   "id": "c1c81ff2",
   "metadata": {
    "papermill": {
     "duration": 0.017284,
     "end_time": "2022-11-17T00:16:13.328203",
     "exception": false,
     "start_time": "2022-11-17T00:16:13.310919",
     "status": "completed"
    },
    "tags": []
   },
   "source": [
    "Draw and save images of cylinders:"
   ]
  },
  {
   "cell_type": "code",
   "execution_count": null,
   "id": "d877c7ee",
   "metadata": {
    "execution": {
     "iopub.execute_input": "2022-11-17T00:16:13.360701Z",
     "iopub.status.busy": "2022-11-17T00:16:13.360178Z",
     "iopub.status.idle": "2022-11-17T00:16:13.498598Z",
     "shell.execute_reply": "2022-11-17T00:16:13.497718Z"
    },
    "papermill": {
     "duration": 0.154158,
     "end_time": "2022-11-17T00:16:13.501576",
     "exception": false,
     "start_time": "2022-11-17T00:16:13.347418",
     "status": "completed"
    },
    "tags": []
   },
   "outputs": [],
   "source": [
    "t.image_size = 64\n",
    "t.size_range = (14, 50)\n",
    "t.images = generate_cylinders(1000, t.size_range, t.size_range, t.image_size)\n",
    "os.makedirs(t.image_folder, exist_ok=True)\n",
    "save_images(t.image_folder, t.images)"
   ]
  },
  {
   "cell_type": "markdown",
   "id": "8c433eb6",
   "metadata": {
    "papermill": {
     "duration": 0.012262,
     "end_time": "2022-11-17T00:16:13.537147",
     "exception": false,
     "start_time": "2022-11-17T00:16:13.524885",
     "status": "completed"
    },
    "tags": []
   },
   "source": [
    "# Main part"
   ]
  },
  {
   "cell_type": "markdown",
   "id": "d4ee4464",
   "metadata": {
    "papermill": {
     "duration": 0.007309,
     "end_time": "2022-11-17T00:16:13.552536",
     "exception": false,
     "start_time": "2022-11-17T00:16:13.545227",
     "status": "completed"
    },
    "tags": []
   },
   "source": [
    "## Create Device"
   ]
  },
  {
   "cell_type": "markdown",
   "id": "799532d2",
   "metadata": {
    "papermill": {
     "duration": 0.00741,
     "end_time": "2022-11-17T00:16:13.567304",
     "exception": false,
     "start_time": "2022-11-17T00:16:13.559894",
     "status": "completed"
    },
    "tags": []
   },
   "source": [
    "We can run our code on GPU or CPU, if GPU is not present. Training will be very slow on CPU. However, when needed, we can pre-train our model on GPU, save, and then experiment with it on CPU. That'll be reasonably fast."
   ]
  },
  {
   "cell_type": "code",
   "execution_count": null,
   "id": "471f9c40",
   "metadata": {
    "execution": {
     "iopub.execute_input": "2022-11-17T00:16:13.583318Z",
     "iopub.status.busy": "2022-11-17T00:16:13.583020Z",
     "iopub.status.idle": "2022-11-17T00:16:13.627988Z",
     "shell.execute_reply": "2022-11-17T00:16:13.627127Z"
    },
    "papermill": {
     "duration": 0.05618,
     "end_time": "2022-11-17T00:16:13.630834",
     "exception": false,
     "start_time": "2022-11-17T00:16:13.574654",
     "status": "completed"
    },
    "tags": []
   },
   "outputs": [],
   "source": [
    "t.device = torch.device('cuda' if torch.cuda.is_available() else 'cpu')\n",
    "t.device"
   ]
  },
  {
   "cell_type": "markdown",
   "id": "cd3377e4",
   "metadata": {
    "papermill": {
     "duration": 0.010442,
     "end_time": "2022-11-17T00:16:13.661387",
     "exception": false,
     "start_time": "2022-11-17T00:16:13.650945",
     "status": "completed"
    },
    "tags": []
   },
   "source": [
    "## To Tensor Transform"
   ]
  },
  {
   "cell_type": "markdown",
   "id": "97a98640",
   "metadata": {
    "papermill": {
     "duration": 0.007425,
     "end_time": "2022-11-17T00:16:13.676516",
     "exception": false,
     "start_time": "2022-11-17T00:16:13.669091",
     "status": "completed"
    },
    "tags": []
   },
   "source": [
    "`ToTensor` is a function from the `transforms` package that converts numpy arrays to Pytorch Tensors. During the conversion it performs a few operations:\n",
    "\n",
    "1. Changes order of dimensions from numpy's Height x Width x Channel to C x H x W.\n",
    "2. Rescales [0, 255] to [0.0, 1.0]"
   ]
  },
  {
   "cell_type": "code",
   "execution_count": null,
   "id": "9066864f",
   "metadata": {
    "execution": {
     "iopub.execute_input": "2022-11-17T00:16:13.693075Z",
     "iopub.status.busy": "2022-11-17T00:16:13.692694Z",
     "iopub.status.idle": "2022-11-17T00:16:13.697171Z",
     "shell.execute_reply": "2022-11-17T00:16:13.696381Z"
    },
    "papermill": {
     "duration": 0.014463,
     "end_time": "2022-11-17T00:16:13.698396",
     "exception": false,
     "start_time": "2022-11-17T00:16:13.683933",
     "status": "completed"
    },
    "tags": []
   },
   "outputs": [],
   "source": [
    "t.to_tensor = transforms.ToTensor()"
   ]
  },
  {
   "cell_type": "markdown",
   "id": "810c2dd1",
   "metadata": {
    "papermill": {
     "duration": 0.007886,
     "end_time": "2022-11-17T00:16:13.714628",
     "exception": false,
     "start_time": "2022-11-17T00:16:13.706742",
     "status": "completed"
    },
    "tags": []
   },
   "source": [
    "## Read Images\n",
    "\n",
    "Location of our images (see the code above to find out this location):"
   ]
  },
  {
   "cell_type": "code",
   "execution_count": null,
   "id": "e32023c8",
   "metadata": {
    "execution": {
     "iopub.execute_input": "2022-11-17T00:16:13.730958Z",
     "iopub.status.busy": "2022-11-17T00:16:13.730687Z",
     "iopub.status.idle": "2022-11-17T00:16:13.734954Z",
     "shell.execute_reply": "2022-11-17T00:16:13.734303Z"
    },
    "papermill": {
     "duration": 0.013914,
     "end_time": "2022-11-17T00:16:13.735941",
     "exception": false,
     "start_time": "2022-11-17T00:16:13.722027",
     "status": "completed"
    },
    "tags": []
   },
   "outputs": [],
   "source": [
    "def read_images(folder):\n",
    "    print('Reading images from', folder)\n",
    "    images = []\n",
    "    image_tensors = []\n",
    "    for fname in os.listdir(folder):\n",
    "        image_path = f\"{folder}/{fname}\"\n",
    "        im = Image.open(image_path).convert(\"L\")\n",
    "        np_im = np.asarray(im)\n",
    "        images.append(np_im)\n",
    "    return np.asarray(images)"
   ]
  },
  {
   "cell_type": "code",
   "execution_count": null,
   "id": "8ef5b11d",
   "metadata": {
    "execution": {
     "iopub.execute_input": "2022-11-17T00:16:13.752665Z",
     "iopub.status.busy": "2022-11-17T00:16:13.752369Z",
     "iopub.status.idle": "2022-11-17T00:16:13.841126Z",
     "shell.execute_reply": "2022-11-17T00:16:13.840440Z"
    },
    "papermill": {
     "duration": 0.099761,
     "end_time": "2022-11-17T00:16:13.843353",
     "exception": false,
     "start_time": "2022-11-17T00:16:13.743592",
     "status": "completed"
    },
    "tags": []
   },
   "outputs": [],
   "source": [
    "t.images = read_images(t.image_folder)\n",
    "t.images.shape"
   ]
  },
  {
   "cell_type": "markdown",
   "id": "6b4c3d25",
   "metadata": {
    "papermill": {
     "duration": 0.007685,
     "end_time": "2022-11-17T00:16:13.859097",
     "exception": false,
     "start_time": "2022-11-17T00:16:13.851412",
     "status": "completed"
    },
    "tags": []
   },
   "source": [
    "The function to display our images:"
   ]
  },
  {
   "cell_type": "code",
   "execution_count": null,
   "id": "e32721bb",
   "metadata": {
    "execution": {
     "iopub.execute_input": "2022-11-17T00:16:13.876442Z",
     "iopub.status.busy": "2022-11-17T00:16:13.875915Z",
     "iopub.status.idle": "2022-11-17T00:16:13.882126Z",
     "shell.execute_reply": "2022-11-17T00:16:13.881432Z"
    },
    "papermill": {
     "duration": 0.016779,
     "end_time": "2022-11-17T00:16:13.883517",
     "exception": false,
     "start_time": "2022-11-17T00:16:13.866738",
     "status": "completed"
    },
    "tags": []
   },
   "outputs": [],
   "source": [
    "def plot_images(images):\n",
    "    fig, axis = plt.subplots(1, len(images), figsize=(20, 5))\n",
    "    for i, im in enumerate(images):\n",
    "        ax = axis[i]\n",
    "        ax.axis('off')\n",
    "        ax.imshow(im, cmap=\"gray\")"
   ]
  },
  {
   "cell_type": "markdown",
   "id": "0b782fda",
   "metadata": {
    "papermill": {
     "duration": 0.007911,
     "end_time": "2022-11-17T00:16:13.901086",
     "exception": false,
     "start_time": "2022-11-17T00:16:13.893175",
     "status": "completed"
    },
    "tags": []
   },
   "source": [
    "Let's see a small sample of the cylinders that we generated:"
   ]
  },
  {
   "cell_type": "code",
   "execution_count": null,
   "id": "6a18b4b8",
   "metadata": {
    "execution": {
     "iopub.execute_input": "2022-11-17T00:16:13.918486Z",
     "iopub.status.busy": "2022-11-17T00:16:13.917783Z",
     "iopub.status.idle": "2022-11-17T00:16:14.090352Z",
     "shell.execute_reply": "2022-11-17T00:16:14.089681Z"
    },
    "papermill": {
     "duration": 0.185823,
     "end_time": "2022-11-17T00:16:14.094511",
     "exception": false,
     "start_time": "2022-11-17T00:16:13.908688",
     "status": "completed"
    },
    "tags": []
   },
   "outputs": [],
   "source": [
    "plot_images(t.images[210:218])"
   ]
  },
  {
   "cell_type": "markdown",
   "id": "6dec0e48",
   "metadata": {
    "papermill": {
     "duration": 0.008076,
     "end_time": "2022-11-17T00:16:14.123516",
     "exception": false,
     "start_time": "2022-11-17T00:16:14.115440",
     "status": "completed"
    },
    "tags": []
   },
   "source": [
    "## Convert Images to Tensors"
   ]
  },
  {
   "cell_type": "code",
   "execution_count": null,
   "id": "7e3f4039",
   "metadata": {
    "execution": {
     "iopub.execute_input": "2022-11-17T00:16:14.141180Z",
     "iopub.status.busy": "2022-11-17T00:16:14.140728Z",
     "iopub.status.idle": "2022-11-17T00:16:14.145829Z",
     "shell.execute_reply": "2022-11-17T00:16:14.144977Z"
    },
    "papermill": {
     "duration": 0.015705,
     "end_time": "2022-11-17T00:16:14.147098",
     "exception": false,
     "start_time": "2022-11-17T00:16:14.131393",
     "status": "completed"
    },
    "tags": []
   },
   "outputs": [],
   "source": [
    "def image_np_to_tensor(images_np, to_tensor):\n",
    "    count, w, h = images_np.shape\n",
    "    images_t = torch.zeros(count, 1, h, w)\n",
    "    for i in range(count):\n",
    "        images_t[i] = to_tensor(images_np[i])\n",
    "    return images_t"
   ]
  },
  {
   "cell_type": "markdown",
   "id": "0861ada4",
   "metadata": {
    "papermill": {
     "duration": 0.007862,
     "end_time": "2022-11-17T00:16:14.162823",
     "exception": false,
     "start_time": "2022-11-17T00:16:14.154961",
     "status": "completed"
    },
    "tags": []
   },
   "source": [
    "Remember, from the explanation above, ToTensor will add an extra array ([]) to signify the color channel even if the image is grayscale. Therefore, we'll see a dimension of '1':"
   ]
  },
  {
   "cell_type": "code",
   "execution_count": null,
   "id": "30650566",
   "metadata": {
    "execution": {
     "iopub.execute_input": "2022-11-17T00:16:14.181316Z",
     "iopub.status.busy": "2022-11-17T00:16:14.180479Z",
     "iopub.status.idle": "2022-11-17T00:16:14.204316Z",
     "shell.execute_reply": "2022-11-17T00:16:14.203840Z"
    },
    "papermill": {
     "duration": 0.034788,
     "end_time": "2022-11-17T00:16:14.205484",
     "exception": false,
     "start_time": "2022-11-17T00:16:14.170696",
     "status": "completed"
    },
    "tags": []
   },
   "outputs": [],
   "source": [
    "t.images_t = image_np_to_tensor(t.images, t.to_tensor)\n",
    "t.images_t.shape"
   ]
  },
  {
   "cell_type": "markdown",
   "id": "f72ac957",
   "metadata": {
    "papermill": {
     "duration": 0.008075,
     "end_time": "2022-11-17T00:16:14.221908",
     "exception": false,
     "start_time": "2022-11-17T00:16:14.213833",
     "status": "completed"
    },
    "tags": []
   },
   "source": [
    "## Design Model\n",
    "\n",
    "Pytorch doesn't provide a \"reshape\" layer that we will need for our model. They didn't provide \"Flatten\" for a while either, but then added it. The hope is they will add Reshape at some point as well.\n",
    "\n",
    "For now, we'll just implement. All NN layers inherit from nn.Module."
   ]
  },
  {
   "cell_type": "code",
   "execution_count": null,
   "id": "10fe727e",
   "metadata": {
    "execution": {
     "iopub.execute_input": "2022-11-17T00:16:14.239252Z",
     "iopub.status.busy": "2022-11-17T00:16:14.239013Z",
     "iopub.status.idle": "2022-11-17T00:16:14.242784Z",
     "shell.execute_reply": "2022-11-17T00:16:14.242006Z"
    },
    "papermill": {
     "duration": 0.013852,
     "end_time": "2022-11-17T00:16:14.243917",
     "exception": false,
     "start_time": "2022-11-17T00:16:14.230065",
     "status": "completed"
    },
    "tags": []
   },
   "outputs": [],
   "source": [
    "class Reshape(nn.Module):\n",
    "    def __init__(self, *args):\n",
    "        super(Reshape, self).__init__()\n",
    "        self.shape = args\n",
    "    def forward(self, x):\n",
    "        return x.view(self.shape)"
   ]
  },
  {
   "cell_type": "markdown",
   "id": "9e95ff5f",
   "metadata": {
    "papermill": {
     "duration": 0.007949,
     "end_time": "2022-11-17T00:16:14.260019",
     "exception": false,
     "start_time": "2022-11-17T00:16:14.252070",
     "status": "completed"
    },
    "tags": []
   },
   "source": [
    "## Define Model\n",
    "\n",
    "We now need to do extra steps during encoding, e.g. sampling from the normal distribution. So, we'll define our standard layers as `_encoder_main` and will have a function `encode` that will call layers, and do additional work.\n",
    "    "
   ]
  },
  {
   "cell_type": "code",
   "execution_count": null,
   "id": "01c4bf98",
   "metadata": {
    "execution": {
     "iopub.execute_input": "2022-11-17T00:16:14.278125Z",
     "iopub.status.busy": "2022-11-17T00:16:14.277632Z",
     "iopub.status.idle": "2022-11-17T00:16:16.347272Z",
     "shell.execute_reply": "2022-11-17T00:16:16.346759Z"
    },
    "papermill": {
     "duration": 2.082621,
     "end_time": "2022-11-17T00:16:16.350610",
     "exception": false,
     "start_time": "2022-11-17T00:16:14.267989",
     "status": "completed"
    },
    "tags": []
   },
   "outputs": [],
   "source": [
    "class VAE(nn.Module):\n",
    "    def __init__(self, device):\n",
    "        super().__init__()\n",
    "        \n",
    "        self._total_epochs = 0\n",
    "        self._training_time_s = 0\n",
    "        self._timer = None\n",
    "        self._mu = None\n",
    "        self._log_var = None\n",
    "        self.N = torch.distributions.Normal(0, 1)\n",
    "        \n",
    "        if device.type == 'cuda':\n",
    "            self.N.loc = self.N.loc.cuda()\n",
    "            self.N.scale = self.N.scale.cuda()\n",
    "        \n",
    "        self._encoder_main = nn.Sequential(\n",
    "            # 64 x 64\n",
    "            nn.Conv2d(1, 32, kernel_size=3, stride=1, padding=1),\n",
    "            nn.BatchNorm2d(32),\n",
    "            nn.ReLU(),\n",
    "            nn.MaxPool2d(kernel_size=2, stride=2, padding=0),\n",
    "            # 32 x 32\n",
    "            nn.Conv2d(32, 64, kernel_size=3, stride=1, padding=1),\n",
    "            nn.BatchNorm2d(64),\n",
    "            nn.ReLU(),\n",
    "            nn.MaxPool2d(kernel_size=2, stride=2, padding=0),\n",
    "            # 16 x 16\n",
    "            nn.Conv2d(64, 64, kernel_size=3, stride=1, padding=1),\n",
    "            nn.BatchNorm2d(64),\n",
    "            nn.ReLU(),\n",
    "            nn.MaxPool2d(kernel_size=2, stride=2, padding=0),\n",
    "            # 8 x 8\n",
    "            nn.Conv2d(64, 64, kernel_size=3, stride=1, padding=1),\n",
    "            nn.BatchNorm2d(64),\n",
    "            nn.ReLU(),\n",
    "            nn.MaxPool2d(kernel_size=2, stride=2, padding=0),\n",
    "            nn.Flatten(),\n",
    "        ).to(device)\n",
    "                        \n",
    "        self.decoder = nn.Sequential(\n",
    "            nn.Linear(2, 64 * 4 * 4),\n",
    "            Reshape(-1, 64, 4, 4),\n",
    "            # 4 x 4\n",
    "            nn.ConvTranspose2d(64, 64, kernel_size=2, stride=2),\n",
    "            nn.BatchNorm2d(64),\n",
    "            nn.ReLU(),\n",
    "            # 8 x 8 \n",
    "            nn.ConvTranspose2d(64, 64, kernel_size=2, stride=2),\n",
    "            nn.BatchNorm2d(64),\n",
    "            nn.ReLU(),\n",
    "            # 16 x 16\n",
    "            nn.ConvTranspose2d(64, 32, kernel_size=2, stride=2),\n",
    "            nn.BatchNorm2d(32),\n",
    "            nn.ReLU(),\n",
    "            # 32 x 32\n",
    "            \n",
    "            nn.ConvTranspose2d(32, 1, kernel_size=2, stride=2),  \n",
    "            nn.Sigmoid(),\n",
    "            # 64 x 64\n",
    "        ).to(device)\n",
    "        \n",
    "        self._mu_layer = nn.Linear(64 * 4 * 4, 2).to(device)\n",
    "        self._log_var_layer = nn.Linear(64 * 4 * 4, 2).to(device)\n",
    "\n",
    "\n",
    "    def encode(self, x):\n",
    "        temp = self._encoder_main(x)\n",
    "        self._mu = self._mu_layer(temp)\n",
    "        self._log_var = self._log_var_layer(temp)\n",
    "        std = torch.exp(0.5*self._log_var)\n",
    "        eps = self.N.sample(self._mu.shape)\n",
    "        encoded = self._mu + (eps * std)\n",
    "        return encoded\n",
    "        \n",
    "    def forward(self, x):\n",
    "        encoded = self.encode(x)\n",
    "        return self.decoder(encoded)\n",
    "\n",
    "    def start_training(self):\n",
    "        if not self._timer:\n",
    "            self._timer = timeit.default_timer()\n",
    "\n",
    "    def end_training(self):\n",
    "        self._training_time_s += timeit.default_timer() - self._timer\n",
    "        self._timer = None\n",
    "\n",
    "    def add_epochs(self, epochs):\n",
    "        self._total_epochs += epochs\n",
    "        \n",
    "    def training_timedelta(self):\n",
    "        return timedelta(seconds=self._training_time_s)\n",
    "        \n",
    "t.model = VAE(t.device)"
   ]
  },
  {
   "cell_type": "code",
   "execution_count": null,
   "id": "7280f62c",
   "metadata": {
    "execution": {
     "iopub.execute_input": "2022-11-17T00:16:16.385270Z",
     "iopub.status.busy": "2022-11-17T00:16:16.384860Z",
     "iopub.status.idle": "2022-11-17T00:16:16.390640Z",
     "shell.execute_reply": "2022-11-17T00:16:16.389828Z"
    },
    "papermill": {
     "duration": 0.019752,
     "end_time": "2022-11-17T00:16:16.392120",
     "exception": false,
     "start_time": "2022-11-17T00:16:16.372368",
     "status": "completed"
    },
    "tags": []
   },
   "outputs": [],
   "source": [
    "print('Parameters: ', sum(p.numel() for p in t.model.parameters()))"
   ]
  },
  {
   "cell_type": "code",
   "execution_count": null,
   "id": "e70a9f23",
   "metadata": {
    "execution": {
     "iopub.execute_input": "2022-11-17T00:16:16.430105Z",
     "iopub.status.busy": "2022-11-17T00:16:16.429785Z",
     "iopub.status.idle": "2022-11-17T00:16:17.053552Z",
     "shell.execute_reply": "2022-11-17T00:16:17.053008Z"
    },
    "papermill": {
     "duration": 0.64181,
     "end_time": "2022-11-17T00:16:17.055570",
     "exception": false,
     "start_time": "2022-11-17T00:16:16.413760",
     "status": "completed"
    },
    "tags": []
   },
   "outputs": [],
   "source": [
    "t.model.encode(t.images_t[0:1].to(t.device))"
   ]
  },
  {
   "cell_type": "markdown",
   "id": "48bd3006",
   "metadata": {
    "papermill": {
     "duration": 0.008547,
     "end_time": "2022-11-17T00:16:17.072811",
     "exception": false,
     "start_time": "2022-11-17T00:16:17.064264",
     "status": "completed"
    },
    "tags": []
   },
   "source": [
    "## Analyze output images before training\n",
    "\n",
    "### Inputs"
   ]
  },
  {
   "cell_type": "code",
   "execution_count": null,
   "id": "a9b62854",
   "metadata": {
    "execution": {
     "iopub.execute_input": "2022-11-17T00:16:17.092278Z",
     "iopub.status.busy": "2022-11-17T00:16:17.091552Z",
     "iopub.status.idle": "2022-11-17T00:16:17.233351Z",
     "shell.execute_reply": "2022-11-17T00:16:17.232374Z"
    },
    "papermill": {
     "duration": 0.153298,
     "end_time": "2022-11-17T00:16:17.234699",
     "exception": false,
     "start_time": "2022-11-17T00:16:17.081401",
     "status": "completed"
    },
    "tags": []
   },
   "outputs": [],
   "source": [
    "t.i = 100\n",
    "plot_images(t.images[t.i:t.i+6])"
   ]
  },
  {
   "cell_type": "markdown",
   "id": "07892f1a",
   "metadata": {
    "execution": {
     "iopub.execute_input": "2022-10-07T20:01:44.651549Z",
     "iopub.status.busy": "2022-10-07T20:01:44.651079Z",
     "iopub.status.idle": "2022-10-07T20:01:44.661648Z",
     "shell.execute_reply": "2022-10-07T20:01:44.659885Z",
     "shell.execute_reply.started": "2022-10-07T20:01:44.651496Z"
    },
    "papermill": {
     "duration": 0.008445,
     "end_time": "2022-11-17T00:16:17.251806",
     "exception": false,
     "start_time": "2022-11-17T00:16:17.243361",
     "status": "completed"
    },
    "tags": []
   },
   "source": [
    "What would output, that is, decoded images will look like now, before we did no training of the network? Let's pass images through the network, that is, execute the sequence:\n",
    "\n",
    "    Input Image -> Encoder -> (0.1, -2.3) -> Decoder -> Output Image\n",
    "    \n",
    "Let's run the end-to-end model, both encoder and decoder:"
   ]
  },
  {
   "cell_type": "code",
   "execution_count": null,
   "id": "c1411a33",
   "metadata": {
    "execution": {
     "iopub.execute_input": "2022-11-17T00:16:17.270872Z",
     "iopub.status.busy": "2022-11-17T00:16:17.270072Z",
     "iopub.status.idle": "2022-11-17T00:16:17.284412Z",
     "shell.execute_reply": "2022-11-17T00:16:17.283670Z"
    },
    "papermill": {
     "duration": 0.027243,
     "end_time": "2022-11-17T00:16:17.287446",
     "exception": false,
     "start_time": "2022-11-17T00:16:17.260203",
     "status": "completed"
    },
    "tags": []
   },
   "outputs": [],
   "source": [
    "t.sample_output = t.model(t.images_t[t.i : t.i+6].to(t.device))"
   ]
  },
  {
   "cell_type": "markdown",
   "id": "043e64aa",
   "metadata": {
    "papermill": {
     "duration": 0.012069,
     "end_time": "2022-11-17T00:16:17.323393",
     "exception": false,
     "start_time": "2022-11-17T00:16:17.311324",
     "status": "completed"
    },
    "tags": []
   },
   "source": [
    "What is the output?"
   ]
  },
  {
   "cell_type": "code",
   "execution_count": null,
   "id": "8b481671",
   "metadata": {
    "execution": {
     "iopub.execute_input": "2022-11-17T00:16:17.342158Z",
     "iopub.status.busy": "2022-11-17T00:16:17.341633Z",
     "iopub.status.idle": "2022-11-17T00:16:17.346809Z",
     "shell.execute_reply": "2022-11-17T00:16:17.346229Z"
    },
    "papermill": {
     "duration": 0.015932,
     "end_time": "2022-11-17T00:16:17.347776",
     "exception": false,
     "start_time": "2022-11-17T00:16:17.331844",
     "status": "completed"
    },
    "tags": []
   },
   "outputs": [],
   "source": [
    "t.sample_output.shape"
   ]
  },
  {
   "cell_type": "markdown",
   "id": "2597f39d",
   "metadata": {
    "execution": {
     "iopub.execute_input": "2022-10-07T20:07:05.555354Z",
     "iopub.status.busy": "2022-10-07T20:07:05.554920Z",
     "iopub.status.idle": "2022-10-07T20:07:05.563274Z",
     "shell.execute_reply": "2022-10-07T20:07:05.561684Z",
     "shell.execute_reply.started": "2022-10-07T20:07:05.555319Z"
    },
    "papermill": {
     "duration": 0.008239,
     "end_time": "2022-11-17T00:16:17.364354",
     "exception": false,
     "start_time": "2022-11-17T00:16:17.356115",
     "status": "completed"
    },
    "tags": []
   },
   "source": [
    "Display output images"
   ]
  },
  {
   "cell_type": "code",
   "execution_count": null,
   "id": "e686c849",
   "metadata": {
    "execution": {
     "iopub.execute_input": "2022-11-17T00:16:17.382158Z",
     "iopub.status.busy": "2022-11-17T00:16:17.381877Z",
     "iopub.status.idle": "2022-11-17T00:16:17.386571Z",
     "shell.execute_reply": "2022-11-17T00:16:17.386182Z"
    },
    "papermill": {
     "duration": 0.014853,
     "end_time": "2022-11-17T00:16:17.387605",
     "exception": false,
     "start_time": "2022-11-17T00:16:17.372752",
     "status": "completed"
    },
    "tags": []
   },
   "outputs": [],
   "source": [
    "# Move images to CPU\n",
    "t.imgs = t.sample_output.cpu()\n",
    "\n",
    "# Disconnect from training data structures, \n",
    "# or Pytorch will complain during the conversion to numpy\n",
    "t.imgs = t.imgs.detach()\n",
    "\n",
    "# Conver to Numpy\n",
    "t.imgs = t.imgs.numpy()\n",
    "\n",
    "t.imgs.shape"
   ]
  },
  {
   "cell_type": "markdown",
   "id": "88b8c4fc",
   "metadata": {
    "papermill": {
     "duration": 0.008467,
     "end_time": "2022-11-17T00:16:17.404430",
     "exception": false,
     "start_time": "2022-11-17T00:16:17.395963",
     "status": "completed"
    },
    "tags": []
   },
   "source": [
    "We need to get rid of an extra dimension, \"1\". Pytorch requires, but our drawing functions won't work:"
   ]
  },
  {
   "cell_type": "code",
   "execution_count": null,
   "id": "48d798a2",
   "metadata": {
    "execution": {
     "iopub.execute_input": "2022-11-17T00:16:17.422379Z",
     "iopub.status.busy": "2022-11-17T00:16:17.422065Z",
     "iopub.status.idle": "2022-11-17T00:16:17.429150Z",
     "shell.execute_reply": "2022-11-17T00:16:17.428503Z"
    },
    "papermill": {
     "duration": 0.019734,
     "end_time": "2022-11-17T00:16:17.432556",
     "exception": false,
     "start_time": "2022-11-17T00:16:17.412822",
     "status": "completed"
    },
    "tags": []
   },
   "outputs": [],
   "source": [
    "t.imgs = np.squeeze(t.imgs)\n",
    "t.imgs.shape"
   ]
  },
  {
   "cell_type": "markdown",
   "id": "536c3e5c",
   "metadata": {
    "papermill": {
     "duration": 0.011365,
     "end_time": "2022-11-17T00:16:17.466428",
     "exception": false,
     "start_time": "2022-11-17T00:16:17.455063",
     "status": "completed"
    },
    "tags": []
   },
   "source": [
    "What should we expectt as an output image right now, before we trained the network at all? Run the following line to see if it's what you guessed."
   ]
  },
  {
   "cell_type": "code",
   "execution_count": null,
   "id": "afa20bd6",
   "metadata": {
    "execution": {
     "iopub.execute_input": "2022-11-17T00:16:17.485404Z",
     "iopub.status.busy": "2022-11-17T00:16:17.484926Z",
     "iopub.status.idle": "2022-11-17T00:16:17.685669Z",
     "shell.execute_reply": "2022-11-17T00:16:17.684964Z"
    },
    "papermill": {
     "duration": 0.21615,
     "end_time": "2022-11-17T00:16:17.691100",
     "exception": false,
     "start_time": "2022-11-17T00:16:17.474950",
     "status": "completed"
    },
    "tags": []
   },
   "outputs": [],
   "source": [
    "plot_images(t.imgs)"
   ]
  },
  {
   "cell_type": "markdown",
   "id": "8519580b",
   "metadata": {
    "papermill": {
     "duration": 0.015831,
     "end_time": "2022-11-17T00:16:17.734057",
     "exception": false,
     "start_time": "2022-11-17T00:16:17.718226",
     "status": "completed"
    },
    "tags": []
   },
   "source": [
    "# Training Loop\n",
    "\n",
    "## Loss functions\n",
    "\n",
    "We need two loss functions:\n",
    "1. Reconstruction loss, i.e. how much the output images differs from the original, an image of a cylinder. Obviously, the images we see above differ quite a lot, so the loss will be high. As we train the network, it will output more cylinder-like images, and the loss will decline.\n",
    "\n",
    "2. The second  loss is how far the distribution of the embeddings differs form the Standard Normal distribution. Standard Normal distribution has the mean of '0' and standard deviation of '1'. In other words, we want encoder to keep the embeddings close to the (0, 0) and be generally simmetrical.\n",
    "\n",
    "## Embedding Distribution Before Training\n",
    "\n",
    "We saw what images look like before any training took place. Let's take a look at what the distribution of embreddings looks like.\n",
    "\n",
    "Let's pass all images through just the encoder:"
   ]
  },
  {
   "cell_type": "code",
   "execution_count": null,
   "id": "5d6edb4e",
   "metadata": {
    "execution": {
     "iopub.execute_input": "2022-11-17T00:16:17.754198Z",
     "iopub.status.busy": "2022-11-17T00:16:17.753819Z",
     "iopub.status.idle": "2022-11-17T00:16:17.782331Z",
     "shell.execute_reply": "2022-11-17T00:16:17.781703Z"
    },
    "papermill": {
     "duration": 0.041423,
     "end_time": "2022-11-17T00:16:17.785180",
     "exception": false,
     "start_time": "2022-11-17T00:16:17.743757",
     "status": "completed"
    },
    "tags": []
   },
   "outputs": [],
   "source": [
    "t.model.eval()\n",
    "with torch.no_grad():\n",
    "    t.emb_t = t.model.encode(t.images_t.to(t.device))\n",
    "\n",
    "# Move results to CPU\n",
    "t.emb = t.emb_t.cpu().detach().numpy();\n",
    "\n",
    "t.emb.shape"
   ]
  },
  {
   "cell_type": "code",
   "execution_count": null,
   "id": "ca9e99fd",
   "metadata": {
    "execution": {
     "iopub.execute_input": "2022-11-17T00:16:17.808185Z",
     "iopub.status.busy": "2022-11-17T00:16:17.807894Z",
     "iopub.status.idle": "2022-11-17T00:16:17.918058Z",
     "shell.execute_reply": "2022-11-17T00:16:17.917342Z"
    },
    "papermill": {
     "duration": 0.124792,
     "end_time": "2022-11-17T00:16:17.922784",
     "exception": false,
     "start_time": "2022-11-17T00:16:17.797992",
     "status": "completed"
    },
    "tags": []
   },
   "outputs": [],
   "source": [
    "plt.figure(figsize=(10, 10))\n",
    "plt.grid()\n",
    "_ = plt.scatter(t.emb[:, 0], t.emb[:, 1])"
   ]
  },
  {
   "cell_type": "markdown",
   "id": "c2f5ed76",
   "metadata": {
    "papermill": {
     "duration": 0.011268,
     "end_time": "2022-11-17T00:16:17.955248",
     "exception": false,
     "start_time": "2022-11-17T00:16:17.943980",
     "status": "completed"
    },
    "tags": []
   },
   "source": [
    "## Implement Loss Functions\n",
    "\n",
    "### Reconstruction loss\n",
    "MSE, or mean-squared error. Subtracts pixel of the two images, squares and averages them. If the images are the same the loss will be exactly zero."
   ]
  },
  {
   "cell_type": "code",
   "execution_count": null,
   "id": "35a51081",
   "metadata": {
    "execution": {
     "iopub.execute_input": "2022-11-17T00:16:17.976401Z",
     "iopub.status.busy": "2022-11-17T00:16:17.975943Z",
     "iopub.status.idle": "2022-11-17T00:16:17.982689Z",
     "shell.execute_reply": "2022-11-17T00:16:17.981664Z"
    },
    "papermill": {
     "duration": 0.019103,
     "end_time": "2022-11-17T00:16:17.983866",
     "exception": false,
     "start_time": "2022-11-17T00:16:17.964763",
     "status": "completed"
    },
    "tags": []
   },
   "outputs": [],
   "source": [
    "# def mse_loss(pred, y_true):\n",
    "#     return ((pred - y_true)**2).mean()\n",
    "t.mse_loss_base = nn.MSELoss(reduction=\"none\")\n",
    "\n",
    "def mse_loss(pred, y_true):\n",
    "    pixel_loss = t.mse_loss_base(pred, y_true)\n",
    "    batch_size = y_true.shape[0]\n",
    "    pixel_loss_sum = pixel_loss.view(batch_size, -1).sum(axis=1) # Sum over pixels\n",
    "    loss = pixel_loss_sum.mean() # mean over the batch\n",
    "    return loss"
   ]
  },
  {
   "cell_type": "markdown",
   "id": "4a60a5a0",
   "metadata": {
    "papermill": {
     "duration": 0.009652,
     "end_time": "2022-11-17T00:16:18.003156",
     "exception": false,
     "start_time": "2022-11-17T00:16:17.993504",
     "status": "completed"
    },
    "tags": []
   },
   "source": [
    "## Distribution difference\n",
    "Kullback->Leibler Divergence."
   ]
  },
  {
   "cell_type": "code",
   "execution_count": null,
   "id": "f3a776da",
   "metadata": {
    "execution": {
     "iopub.execute_input": "2022-11-17T00:16:18.023309Z",
     "iopub.status.busy": "2022-11-17T00:16:18.023033Z",
     "iopub.status.idle": "2022-11-17T00:16:18.027787Z",
     "shell.execute_reply": "2022-11-17T00:16:18.026781Z"
    },
    "papermill": {
     "duration": 0.016531,
     "end_time": "2022-11-17T00:16:18.029133",
     "exception": false,
     "start_time": "2022-11-17T00:16:18.012602",
     "status": "completed"
    },
    "tags": []
   },
   "outputs": [],
   "source": [
    "def kl_loss(pred, y_true):\n",
    "    mu = t.model._mu\n",
    "    log_var = t.model._log_var\n",
    "    var = torch.exp(log_var)\n",
    "    kl_loss_sum = -0.5 * (1 + log_var - mu**2 - var).sum(axis=1) # some over dims\n",
    "    kl_loss = kl_loss_sum.mean() # mean over batch\n",
    "    return kl_loss"
   ]
  },
  {
   "cell_type": "markdown",
   "id": "30a0afad",
   "metadata": {
    "papermill": {
     "duration": 0.00939,
     "end_time": "2022-11-17T00:16:18.048043",
     "exception": false,
     "start_time": "2022-11-17T00:16:18.038653",
     "status": "completed"
    },
    "tags": []
   },
   "source": [
    "#### Overall Loss\n",
    "Combines both losses:"
   ]
  },
  {
   "cell_type": "code",
   "execution_count": null,
   "id": "ab4f1828",
   "metadata": {
    "execution": {
     "iopub.execute_input": "2022-11-17T00:16:18.068851Z",
     "iopub.status.busy": "2022-11-17T00:16:18.068361Z",
     "iopub.status.idle": "2022-11-17T00:16:18.074772Z",
     "shell.execute_reply": "2022-11-17T00:16:18.073799Z"
    },
    "papermill": {
     "duration": 0.018528,
     "end_time": "2022-11-17T00:16:18.075984",
     "exception": false,
     "start_time": "2022-11-17T00:16:18.057456",
     "status": "completed"
    },
    "tags": []
   },
   "outputs": [],
   "source": [
    "def vae_loss(pred, y_true):\n",
    "    r_loss = mse_loss(pred, y_true)\n",
    "    kl_div = kl_loss(pred, y_true)\n",
    "    return r_loss + pm_kl_factor * kl_div"
   ]
  },
  {
   "cell_type": "code",
   "execution_count": null,
   "id": "a00453bb",
   "metadata": {
    "execution": {
     "iopub.execute_input": "2022-11-17T00:16:18.098827Z",
     "iopub.status.busy": "2022-11-17T00:16:18.098472Z",
     "iopub.status.idle": "2022-11-17T00:16:18.103803Z",
     "shell.execute_reply": "2022-11-17T00:16:18.102812Z"
    },
    "papermill": {
     "duration": 0.019704,
     "end_time": "2022-11-17T00:16:18.106767",
     "exception": false,
     "start_time": "2022-11-17T00:16:18.087063",
     "status": "completed"
    },
    "tags": []
   },
   "outputs": [],
   "source": [
    "t.criterion = vae_loss"
   ]
  },
  {
   "cell_type": "markdown",
   "id": "c35704e1",
   "metadata": {
    "papermill": {
     "duration": 0.01942,
     "end_time": "2022-11-17T00:16:18.156970",
     "exception": false,
     "start_time": "2022-11-17T00:16:18.137550",
     "status": "completed"
    },
    "tags": []
   },
   "source": [
    "## Training Loop"
   ]
  },
  {
   "cell_type": "code",
   "execution_count": null,
   "id": "2c746835",
   "metadata": {
    "execution": {
     "iopub.execute_input": "2022-11-17T00:16:18.181733Z",
     "iopub.status.busy": "2022-11-17T00:16:18.181222Z",
     "iopub.status.idle": "2022-11-17T00:16:18.189233Z",
     "shell.execute_reply": "2022-11-17T00:16:18.188218Z"
    },
    "papermill": {
     "duration": 0.020516,
     "end_time": "2022-11-17T00:16:18.190542",
     "exception": false,
     "start_time": "2022-11-17T00:16:18.170026",
     "status": "completed"
    },
    "tags": []
   },
   "outputs": [],
   "source": [
    "def train(model, n_epochs, train_images, opt, criterion, report_each_nth_epoch):\n",
    "    batch_size = 32\n",
    "    print(\"Batch size:\", batch_size)\n",
    "    print(\"KL factor:\", pm_kl_factor)\n",
    "    print(f\"Epoch, Train loss, Valid loss, MSE Loss, KL Loss, Total epochs, Total train time\")\n",
    "    for epoch in range(1, n_epochs + 1):\n",
    "        model.start_training()\n",
    "        batch_count = int(train_images.shape[0] / batch_size) + 1\n",
    "        for i in range(0, batch_count):\n",
    "            start_i = i * batch_size\n",
    "            image_batch = train_images[start_i : start_i + batch_size].to(t.device)\n",
    "            if image_batch.shape[0] > 0:\n",
    "                \n",
    "                output = model(image_batch)\n",
    "                \n",
    "                loss = criterion(output, image_batch)\n",
    "                                \n",
    "                model.zero_grad()\n",
    "                \n",
    "                loss.backward()\n",
    "                \n",
    "                opt.step()\n",
    "        model.add_epochs(1)\n",
    "        if epoch % report_each_nth_epoch == 0:\n",
    "            model.end_training()\n",
    "            model.eval()\n",
    "            with torch.no_grad():\n",
    "                eval_images = train_images[:256].to(t.device)\n",
    "                output = model(eval_images)\n",
    "                valid_loss = criterion(output, eval_images).item()\n",
    "                r_loss = mse_loss(output, eval_images).item()\n",
    "                mu_loss = kl_loss(output, eval_images).item()\n",
    "                print(f\"{epoch}, {loss.item():.2f}, {valid_loss:.2f}, {r_loss:.2f},\",\n",
    "                      f\"{mu_loss :.5f}, {model._total_epochs}, {model.training_timedelta()}\")\n",
    "            model.train()"
   ]
  },
  {
   "cell_type": "markdown",
   "id": "77337e94",
   "metadata": {
    "papermill": {
     "duration": 0.009555,
     "end_time": "2022-11-17T00:16:18.212104",
     "exception": false,
     "start_time": "2022-11-17T00:16:18.202549",
     "status": "completed"
    },
    "tags": []
   },
   "source": [
    "### Optimizer\n",
    "Optimizer is an algorithm that trains the network. All of them are a version of a stochastic gradient descent. We will use Adam, with a learning rate of `1e-4`.\n",
    "\n",
    "The learning rate is determined experimentally, but usually around `1e-3` to `1e-4`. There are advanced techniques to set the learning rate more precisely, but we don't need them here."
   ]
  },
  {
   "cell_type": "code",
   "execution_count": null,
   "id": "0e1205c7",
   "metadata": {
    "execution": {
     "iopub.execute_input": "2022-11-17T00:16:18.233652Z",
     "iopub.status.busy": "2022-11-17T00:16:18.232680Z",
     "iopub.status.idle": "2022-11-17T00:16:18.237878Z",
     "shell.execute_reply": "2022-11-17T00:16:18.236926Z"
    },
    "papermill": {
     "duration": 0.0175,
     "end_time": "2022-11-17T00:16:18.239154",
     "exception": false,
     "start_time": "2022-11-17T00:16:18.221654",
     "status": "completed"
    },
    "tags": []
   },
   "outputs": [],
   "source": [
    "t.opt = torch.optim.Adam(t.model.parameters(), lr=1e-4)"
   ]
  },
  {
   "cell_type": "markdown",
   "id": "339b1489",
   "metadata": {
    "papermill": {
     "duration": 0.009776,
     "end_time": "2022-11-17T00:16:18.259337",
     "exception": false,
     "start_time": "2022-11-17T00:16:18.249561",
     "status": "completed"
    },
    "tags": []
   },
   "source": [
    "## Run Training\n",
    "\n",
    "You might want to get some coffee after you run the next line."
   ]
  },
  {
   "cell_type": "code",
   "execution_count": null,
   "id": "5224abd4",
   "metadata": {
    "execution": {
     "iopub.execute_input": "2022-11-17T00:16:18.280777Z",
     "iopub.status.busy": "2022-11-17T00:16:18.280262Z",
     "iopub.status.idle": "2022-11-17T00:38:58.203489Z",
     "shell.execute_reply": "2022-11-17T00:38:58.202440Z"
    },
    "papermill": {
     "duration": 1359.966744,
     "end_time": "2022-11-17T00:38:58.235635",
     "exception": false,
     "start_time": "2022-11-17T00:16:18.268891",
     "status": "completed"
    },
    "tags": []
   },
   "outputs": [],
   "source": [
    "train(\n",
    "    model=t.model, \n",
    "    n_epochs=3000, \n",
    "    train_images=t.images_t, \n",
    "    opt=t.opt, \n",
    "    criterion=t.criterion, \n",
    "    report_each_nth_epoch=50)"
   ]
  },
  {
   "cell_type": "markdown",
   "id": "0e2a2798",
   "metadata": {
    "papermill": {
     "duration": 0.01148,
     "end_time": "2022-11-17T00:38:58.260756",
     "exception": false,
     "start_time": "2022-11-17T00:38:58.249276",
     "status": "completed"
    },
    "tags": []
   },
   "source": [
    "# Save the Model"
   ]
  },
  {
   "cell_type": "code",
   "execution_count": null,
   "id": "908baca6",
   "metadata": {
    "execution": {
     "iopub.execute_input": "2022-11-17T00:38:58.285752Z",
     "iopub.status.busy": "2022-11-17T00:38:58.285230Z",
     "iopub.status.idle": "2022-11-17T00:38:58.301979Z",
     "shell.execute_reply": "2022-11-17T00:38:58.301025Z"
    },
    "papermill": {
     "duration": 0.032771,
     "end_time": "2022-11-17T00:38:58.304943",
     "exception": false,
     "start_time": "2022-11-17T00:38:58.272172",
     "status": "completed"
    },
    "tags": []
   },
   "outputs": [],
   "source": [
    "torch.save(t.model, f\"output/cylinder_vae.{pm_kl_factor}.pkl\")"
   ]
  },
  {
   "cell_type": "markdown",
   "id": "3e836ef1",
   "metadata": {
    "papermill": {
     "duration": 0.015823,
     "end_time": "2022-11-17T00:38:58.351886",
     "exception": false,
     "start_time": "2022-11-17T00:38:58.336063",
     "status": "completed"
    },
    "tags": []
   },
   "source": [
    "# (Re-)Load Model\n",
    "\n",
    "Let's create a new object where we will keep the loaded model, and all related data."
   ]
  },
  {
   "cell_type": "code",
   "execution_count": null,
   "id": "5fba4387",
   "metadata": {
    "execution": {
     "iopub.execute_input": "2022-11-17T00:38:58.376460Z",
     "iopub.status.busy": "2022-11-17T00:38:58.376134Z",
     "iopub.status.idle": "2022-11-17T00:38:58.380446Z",
     "shell.execute_reply": "2022-11-17T00:38:58.379551Z"
    },
    "papermill": {
     "duration": 0.018015,
     "end_time": "2022-11-17T00:38:58.381775",
     "exception": false,
     "start_time": "2022-11-17T00:38:58.363760",
     "status": "completed"
    },
    "tags": []
   },
   "outputs": [],
   "source": [
    "a = Object()"
   ]
  },
  {
   "cell_type": "markdown",
   "id": "91847d0b",
   "metadata": {
    "papermill": {
     "duration": 0.01125,
     "end_time": "2022-11-17T00:38:58.404298",
     "exception": false,
     "start_time": "2022-11-17T00:38:58.393048",
     "status": "completed"
    },
    "tags": []
   },
   "source": [
    "## Use Current Session\n",
    "\n",
    "Uncomment the next line if you want to use the model you trained right now:"
   ]
  },
  {
   "cell_type": "code",
   "execution_count": null,
   "id": "a5be9dd5",
   "metadata": {
    "execution": {
     "iopub.execute_input": "2022-11-17T00:38:58.428747Z",
     "iopub.status.busy": "2022-11-17T00:38:58.428257Z",
     "iopub.status.idle": "2022-11-17T00:38:58.433428Z",
     "shell.execute_reply": "2022-11-17T00:38:58.432779Z"
    },
    "papermill": {
     "duration": 0.020081,
     "end_time": "2022-11-17T00:38:58.435610",
     "exception": false,
     "start_time": "2022-11-17T00:38:58.415529",
     "status": "completed"
    },
    "tags": []
   },
   "outputs": [],
   "source": [
    "a.model = t.model"
   ]
  },
  {
   "cell_type": "markdown",
   "id": "03f09890",
   "metadata": {
    "papermill": {
     "duration": 0.012711,
     "end_time": "2022-11-17T00:38:58.470175",
     "exception": false,
     "start_time": "2022-11-17T00:38:58.457464",
     "status": "completed"
    },
    "tags": []
   },
   "source": [
    "## Use Previously Loaded Model"
   ]
  },
  {
   "cell_type": "code",
   "execution_count": null,
   "id": "d2a38fac",
   "metadata": {
    "execution": {
     "iopub.execute_input": "2022-11-17T00:38:58.494761Z",
     "iopub.status.busy": "2022-11-17T00:38:58.494258Z",
     "iopub.status.idle": "2022-11-17T00:38:58.498637Z",
     "shell.execute_reply": "2022-11-17T00:38:58.497621Z"
    },
    "papermill": {
     "duration": 0.018462,
     "end_time": "2022-11-17T00:38:58.500007",
     "exception": false,
     "start_time": "2022-11-17T00:38:58.481545",
     "status": "completed"
    },
    "tags": []
   },
   "outputs": [],
   "source": [
    "# a.model = torch.load('../input/cylinder-vae/cylinder_vae.pkl', map_location=t.device)"
   ]
  },
  {
   "cell_type": "markdown",
   "id": "a8e28209",
   "metadata": {
    "papermill": {
     "duration": 0.011176,
     "end_time": "2022-11-17T00:38:58.522432",
     "exception": false,
     "start_time": "2022-11-17T00:38:58.511256",
     "status": "completed"
    },
    "tags": []
   },
   "source": [
    "## Generate embeddings by running Encoder"
   ]
  },
  {
   "cell_type": "code",
   "execution_count": null,
   "id": "2e9920c6",
   "metadata": {
    "execution": {
     "iopub.execute_input": "2022-11-17T00:38:58.546822Z",
     "iopub.status.busy": "2022-11-17T00:38:58.546311Z",
     "iopub.status.idle": "2022-11-17T00:38:58.574715Z",
     "shell.execute_reply": "2022-11-17T00:38:58.573711Z"
    },
    "papermill": {
     "duration": 0.043082,
     "end_time": "2022-11-17T00:38:58.576691",
     "exception": false,
     "start_time": "2022-11-17T00:38:58.533609",
     "status": "completed"
    },
    "tags": []
   },
   "outputs": [],
   "source": [
    "a.model.eval()\n",
    "with torch.no_grad():\n",
    "    a.emb_t = a.model.encode(t.images_t.to(t.device))\n",
    "a.emb = a.emb_t.cpu().detach().numpy()\n",
    "a.emb.shape"
   ]
  },
  {
   "cell_type": "markdown",
   "id": "9c604c03",
   "metadata": {
    "papermill": {
     "duration": 0.025087,
     "end_time": "2022-11-17T00:38:58.623436",
     "exception": false,
     "start_time": "2022-11-17T00:38:58.598349",
     "status": "completed"
    },
    "tags": []
   },
   "source": [
    "# Analyze the Autoencoder\n",
    "Pass all images through the Encoder, and plot the points in teh 2-D latent space."
   ]
  },
  {
   "cell_type": "code",
   "execution_count": null,
   "id": "0fddf0ae",
   "metadata": {
    "execution": {
     "iopub.execute_input": "2022-11-17T00:38:58.649225Z",
     "iopub.status.busy": "2022-11-17T00:38:58.648877Z",
     "iopub.status.idle": "2022-11-17T00:38:58.753463Z",
     "shell.execute_reply": "2022-11-17T00:38:58.752720Z"
    },
    "papermill": {
     "duration": 0.119258,
     "end_time": "2022-11-17T00:38:58.755620",
     "exception": false,
     "start_time": "2022-11-17T00:38:58.636362",
     "status": "completed"
    },
    "tags": []
   },
   "outputs": [],
   "source": [
    "i = 10\n",
    "plot_images(t.images[i:i+5])"
   ]
  },
  {
   "cell_type": "code",
   "execution_count": null,
   "id": "c793f785",
   "metadata": {
    "execution": {
     "iopub.execute_input": "2022-11-17T00:38:58.788867Z",
     "iopub.status.busy": "2022-11-17T00:38:58.788488Z",
     "iopub.status.idle": "2022-11-17T00:38:58.895575Z",
     "shell.execute_reply": "2022-11-17T00:38:58.894515Z"
    },
    "papermill": {
     "duration": 0.123356,
     "end_time": "2022-11-17T00:38:58.898321",
     "exception": false,
     "start_time": "2022-11-17T00:38:58.774965",
     "status": "completed"
    },
    "tags": []
   },
   "outputs": [],
   "source": [
    "imgs = a.model(t.images_t[i: i+ 5].to(t.device))\n",
    "plot_images(np.squeeze(imgs.detach().cpu().numpy()))"
   ]
  },
  {
   "cell_type": "code",
   "execution_count": null,
   "id": "d889594a",
   "metadata": {
    "execution": {
     "iopub.execute_input": "2022-11-17T00:38:58.932534Z",
     "iopub.status.busy": "2022-11-17T00:38:58.932183Z",
     "iopub.status.idle": "2022-11-17T00:38:59.054052Z",
     "shell.execute_reply": "2022-11-17T00:38:59.053432Z"
    },
    "papermill": {
     "duration": 0.13687,
     "end_time": "2022-11-17T00:38:59.055561",
     "exception": false,
     "start_time": "2022-11-17T00:38:58.918691",
     "status": "completed"
    },
    "tags": []
   },
   "outputs": [],
   "source": [
    "plt.figure(figsize=(10, 10))\n",
    "plt.grid()\n",
    "plt.scatter(a.emb[:,0], a.emb[:,1])"
   ]
  },
  {
   "cell_type": "code",
   "execution_count": null,
   "id": "037c575a",
   "metadata": {
    "execution": {
     "iopub.execute_input": "2022-11-17T00:38:59.082790Z",
     "iopub.status.busy": "2022-11-17T00:38:59.082261Z",
     "iopub.status.idle": "2022-11-17T00:38:59.089347Z",
     "shell.execute_reply": "2022-11-17T00:38:59.088512Z"
    },
    "papermill": {
     "duration": 0.022343,
     "end_time": "2022-11-17T00:38:59.090654",
     "exception": false,
     "start_time": "2022-11-17T00:38:59.068311",
     "status": "completed"
    },
    "tags": []
   },
   "outputs": [],
   "source": [
    "def dream_cylinder(x, y, model):\n",
    "    plt.imshow(\n",
    "        model.decoder(torch.tensor([x*1.0, y]).to(t.device)).detach().cpu().numpy()[0][0],\n",
    "        cmap=\"gray\")"
   ]
  },
  {
   "cell_type": "code",
   "execution_count": null,
   "id": "9ea0e98c",
   "metadata": {
    "execution": {
     "iopub.execute_input": "2022-11-17T00:38:59.119508Z",
     "iopub.status.busy": "2022-11-17T00:38:59.119039Z",
     "iopub.status.idle": "2022-11-17T00:38:59.213439Z",
     "shell.execute_reply": "2022-11-17T00:38:59.212771Z"
    },
    "papermill": {
     "duration": 0.110778,
     "end_time": "2022-11-17T00:38:59.216101",
     "exception": false,
     "start_time": "2022-11-17T00:38:59.105323",
     "status": "completed"
    },
    "tags": []
   },
   "outputs": [],
   "source": [
    "dream_cylinder(-1.3, -0.3, a.model)"
   ]
  },
  {
   "cell_type": "markdown",
   "id": "c1348ad0",
   "metadata": {
    "papermill": {
     "duration": 0.013216,
     "end_time": "2022-11-17T00:38:59.253489",
     "exception": false,
     "start_time": "2022-11-17T00:38:59.240273",
     "status": "completed"
    },
    "tags": []
   },
   "source": [
    "# Plot Reconstruction Space\n",
    "\n",
    "We will plot the space of embedding and display cylinders corresponding to each point."
   ]
  },
  {
   "cell_type": "code",
   "execution_count": null,
   "id": "4c3c1737",
   "metadata": {
    "execution": {
     "iopub.execute_input": "2022-11-17T00:38:59.279865Z",
     "iopub.status.busy": "2022-11-17T00:38:59.279486Z",
     "iopub.status.idle": "2022-11-17T00:38:59.288446Z",
     "shell.execute_reply": "2022-11-17T00:38:59.287560Z"
    },
    "papermill": {
     "duration": 0.023979,
     "end_time": "2022-11-17T00:38:59.289858",
     "exception": false,
     "start_time": "2022-11-17T00:38:59.265879",
     "status": "completed"
    },
    "tags": []
   },
   "outputs": [],
   "source": [
    "def plot_embedding_space(\n",
    "    model: VAE,\n",
    "    x_range: Tuple[int], \n",
    "    y_range: Tuple[int], \n",
    "    wh: Tuple[int], \n",
    "    n: int):\n",
    "    w = wh[0]\n",
    "    big_img = np.zeros((w * n, w * n))\n",
    "    xs = np.linspace(x_range[0], x_range[1], n)\n",
    "    ys = np.linspace(y_range[0], y_range[1], n)\n",
    "    for i, y in enumerate(ys):\n",
    "        for j, x in enumerate(xs):\n",
    "            z = torch.Tensor([[x, y]]).to(t.device)\n",
    "            input_hat = model.decoder(z) \\\n",
    "                .reshape(w, w) \\\n",
    "                .to('cpu') \\\n",
    "                .detach() \\\n",
    "                .numpy()\n",
    "            big_img[(n - 1 - i) * w : (n - 1 - i + 1) * w,\n",
    "                j * w : (j + 1) * w] = input_hat\n",
    "    plt.figure(figsize=(15, 15))\n",
    "    plt.imshow(big_img, extent=[*x_range, *y_range], cmap=\"gray\")"
   ]
  },
  {
   "cell_type": "code",
   "execution_count": null,
   "id": "1db5a8f6",
   "metadata": {
    "execution": {
     "iopub.execute_input": "2022-11-17T00:38:59.316611Z",
     "iopub.status.busy": "2022-11-17T00:38:59.316148Z",
     "iopub.status.idle": "2022-11-17T00:38:59.828602Z",
     "shell.execute_reply": "2022-11-17T00:38:59.827505Z"
    },
    "papermill": {
     "duration": 0.533375,
     "end_time": "2022-11-17T00:38:59.835786",
     "exception": false,
     "start_time": "2022-11-17T00:38:59.302411",
     "status": "completed"
    },
    "tags": []
   },
   "outputs": [],
   "source": [
    "t.x_range = (a.emb[:,0].min(), a.emb[:,0].max())\n",
    "t.y_range = (a.emb[:,1].min(), a.emb[:,1].max())\n",
    "\n",
    "plot_embedding_space(a.model, \n",
    "                     x_range=(-2.5, 2.5), \n",
    "                     y_range=(-2.5, 2.5), \n",
    "                     wh=(64, 64),\n",
    "                     n=10)"
   ]
  },
  {
   "cell_type": "markdown",
   "id": "dec03daf",
   "metadata": {
    "papermill": {
     "duration": 0.016323,
     "end_time": "2022-11-17T00:38:59.869329",
     "exception": false,
     "start_time": "2022-11-17T00:38:59.853006",
     "status": "completed"
    },
    "tags": []
   },
   "source": [
    "# Latent Space Vector Algebra\n",
    "\n",
    "1. Find all narrow cylinders, calculate their average embedding.\n",
    "2. Find all wide cylinders, calculate thrir average embedding.\n",
    "3. Subtract (2) from from (1). We will get obtain a vector that points in the direction of \"widening\". Then we can add it to any cylider and make it wider. "
   ]
  },
  {
   "cell_type": "code",
   "execution_count": null,
   "id": "d5434f0d",
   "metadata": {
    "execution": {
     "iopub.execute_input": "2022-11-17T00:38:59.903452Z",
     "iopub.status.busy": "2022-11-17T00:38:59.903118Z",
     "iopub.status.idle": "2022-11-17T00:38:59.908127Z",
     "shell.execute_reply": "2022-11-17T00:38:59.907336Z"
    },
    "papermill": {
     "duration": 0.023871,
     "end_time": "2022-11-17T00:38:59.909481",
     "exception": false,
     "start_time": "2022-11-17T00:38:59.885610",
     "status": "completed"
    },
    "tags": []
   },
   "outputs": [],
   "source": [
    "# Class to parse cylinder sizes\n",
    "\n",
    "class ImageContainer:\n",
    "    def __init__(self, file_path):\n",
    "        self._file_path = file_path\n",
    "        self.image_np = np.asarray(Image.open(file_path).convert(\"L\"))\n",
    "        parts = os.path.basename(file_path).split('_') # image, 105 (width), 20 (height), 33.png\n",
    "        self.w = int(parts[1])\n",
    "        self.h = int(parts[2])"
   ]
  },
  {
   "cell_type": "code",
   "execution_count": null,
   "id": "35a2c1ec",
   "metadata": {
    "execution": {
     "iopub.execute_input": "2022-11-17T00:38:59.945424Z",
     "iopub.status.busy": "2022-11-17T00:38:59.944988Z",
     "iopub.status.idle": "2022-11-17T00:38:59.949574Z",
     "shell.execute_reply": "2022-11-17T00:38:59.948687Z"
    },
    "papermill": {
     "duration": 0.023501,
     "end_time": "2022-11-17T00:38:59.950846",
     "exception": false,
     "start_time": "2022-11-17T00:38:59.927345",
     "status": "completed"
    },
    "tags": []
   },
   "outputs": [],
   "source": [
    "# 1. Read all cylinder files, \n",
    "# 2. Select all narrowest ones\n",
    "# 3. Select all widest ones\n",
    "# 4. Calculate all embeddings.\n",
    "# 5. Subract."
   ]
  },
  {
   "cell_type": "code",
   "execution_count": null,
   "id": "69a2bf93",
   "metadata": {
    "execution": {
     "iopub.execute_input": "2022-11-17T00:38:59.986805Z",
     "iopub.status.busy": "2022-11-17T00:38:59.986296Z",
     "iopub.status.idle": "2022-11-17T00:38:59.993427Z",
     "shell.execute_reply": "2022-11-17T00:38:59.992605Z"
    },
    "papermill": {
     "duration": 0.026276,
     "end_time": "2022-11-17T00:38:59.994693",
     "exception": false,
     "start_time": "2022-11-17T00:38:59.968417",
     "status": "completed"
    },
    "tags": []
   },
   "outputs": [],
   "source": [
    "def read_parse_images(folder) -> List[ImageContainer]:\n",
    "    images = []\n",
    "    for fname in os.listdir(folder):\n",
    "        image_path = f\"{folder}/{fname}\"\n",
    "        img_container = ImageContainer(image_path)\n",
    "        images.append(img_container)\n",
    "    return images"
   ]
  },
  {
   "cell_type": "code",
   "execution_count": null,
   "id": "d11b9ea0",
   "metadata": {
    "execution": {
     "iopub.execute_input": "2022-11-17T00:39:00.029123Z",
     "iopub.status.busy": "2022-11-17T00:39:00.028735Z",
     "iopub.status.idle": "2022-11-17T00:39:00.117704Z",
     "shell.execute_reply": "2022-11-17T00:39:00.117012Z"
    },
    "papermill": {
     "duration": 0.108177,
     "end_time": "2022-11-17T00:39:00.119384",
     "exception": false,
     "start_time": "2022-11-17T00:39:00.011207",
     "status": "completed"
    },
    "tags": []
   },
   "outputs": [],
   "source": [
    "a.parsed_images = read_parse_images(t.image_folder)"
   ]
  },
  {
   "cell_type": "code",
   "execution_count": null,
   "id": "67074866",
   "metadata": {
    "execution": {
     "iopub.execute_input": "2022-11-17T00:39:00.154687Z",
     "iopub.status.busy": "2022-11-17T00:39:00.154172Z",
     "iopub.status.idle": "2022-11-17T00:39:00.160768Z",
     "shell.execute_reply": "2022-11-17T00:39:00.159754Z"
    },
    "papermill": {
     "duration": 0.02648,
     "end_time": "2022-11-17T00:39:00.162834",
     "exception": false,
     "start_time": "2022-11-17T00:39:00.136354",
     "status": "completed"
    },
    "tags": []
   },
   "outputs": [],
   "source": [
    "def select_images(images: List[ImageContainer]) -> Tuple:\n",
    "    narrow = []\n",
    "    wide = []\n",
    "    for im in images:\n",
    "        if im.w < 18:\n",
    "            narrow.append(im.image_np)\n",
    "        if im.w > 48:\n",
    "            wide.append(im.image_np)\n",
    "    narrow = np.asarray(narrow)\n",
    "    wide = np.asarray(wide)\n",
    "    return narrow, wide"
   ]
  },
  {
   "cell_type": "code",
   "execution_count": null,
   "id": "a177fd37",
   "metadata": {
    "execution": {
     "iopub.execute_input": "2022-11-17T00:39:00.203331Z",
     "iopub.status.busy": "2022-11-17T00:39:00.203040Z",
     "iopub.status.idle": "2022-11-17T00:39:00.210899Z",
     "shell.execute_reply": "2022-11-17T00:39:00.209885Z"
    },
    "papermill": {
     "duration": 0.026428,
     "end_time": "2022-11-17T00:39:00.212196",
     "exception": false,
     "start_time": "2022-11-17T00:39:00.185768",
     "status": "completed"
    },
    "tags": []
   },
   "outputs": [],
   "source": [
    "a.narrow_np, a.wide_np = select_images(a.parsed_images)\n",
    "a.narrow_np.shape, a.wide_np.shape"
   ]
  },
  {
   "cell_type": "code",
   "execution_count": null,
   "id": "c935a457",
   "metadata": {
    "execution": {
     "iopub.execute_input": "2022-11-17T00:39:00.246913Z",
     "iopub.status.busy": "2022-11-17T00:39:00.246621Z",
     "iopub.status.idle": "2022-11-17T00:39:00.254679Z",
     "shell.execute_reply": "2022-11-17T00:39:00.253916Z"
    },
    "papermill": {
     "duration": 0.027283,
     "end_time": "2022-11-17T00:39:00.255938",
     "exception": false,
     "start_time": "2022-11-17T00:39:00.228655",
     "status": "completed"
    },
    "tags": []
   },
   "outputs": [],
   "source": [
    "a.narrow_t = image_np_to_tensor(a.narrow_np, t.to_tensor).to(t.device)\n",
    "a.wide_t = image_np_to_tensor(a.wide_np, t.to_tensor).to(t.device)"
   ]
  },
  {
   "cell_type": "code",
   "execution_count": null,
   "id": "a63ad79e",
   "metadata": {
    "execution": {
     "iopub.execute_input": "2022-11-17T00:39:00.291848Z",
     "iopub.status.busy": "2022-11-17T00:39:00.290974Z",
     "iopub.status.idle": "2022-11-17T00:39:00.306520Z",
     "shell.execute_reply": "2022-11-17T00:39:00.305466Z"
    },
    "papermill": {
     "duration": 0.03542,
     "end_time": "2022-11-17T00:39:00.308018",
     "exception": false,
     "start_time": "2022-11-17T00:39:00.272598",
     "status": "completed"
    },
    "tags": []
   },
   "outputs": [],
   "source": [
    "a.narrow_emb = a.model.encode(a.narrow_t)\n",
    "a.wide_emb = a.model.encode(a.wide_t)"
   ]
  },
  {
   "cell_type": "code",
   "execution_count": null,
   "id": "3d5d6175",
   "metadata": {
    "execution": {
     "iopub.execute_input": "2022-11-17T00:39:00.347120Z",
     "iopub.status.busy": "2022-11-17T00:39:00.346831Z",
     "iopub.status.idle": "2022-11-17T00:39:00.357275Z",
     "shell.execute_reply": "2022-11-17T00:39:00.356277Z"
    },
    "papermill": {
     "duration": 0.029546,
     "end_time": "2022-11-17T00:39:00.358563",
     "exception": false,
     "start_time": "2022-11-17T00:39:00.329017",
     "status": "completed"
    },
    "tags": []
   },
   "outputs": [],
   "source": [
    "a.wider_vector = torch.mean(a.wide_emb, axis=0) - torch.mean(a.narrow_emb, axis=0)\n",
    "a.wider_vector"
   ]
  },
  {
   "cell_type": "markdown",
   "id": "5e49d625",
   "metadata": {},
   "source": [
    "## Convert Narrow Cylinder to Wide"
   ]
  },
  {
   "cell_type": "markdown",
   "id": "7cb2b137",
   "metadata": {},
   "source": [
    "Let's select a couple of narrow cylinders, using numpy format first:"
   ]
  },
  {
   "cell_type": "code",
   "execution_count": null,
   "id": "9911d186",
   "metadata": {},
   "outputs": [],
   "source": [
    "a.narrow_images = []\n",
    "for a.narrow_im in a.parsed_images:\n",
    "    if a.narrow_im.w <= 16:\n",
    "        a.narrow_images.append(a.narrow_im.image_np)\n",
    "    if len(a.narrow_images) >= 2:\n",
    "        break\n",
    "        \n",
    "assert len(a.narrow_images) >= 2"
   ]
  },
  {
   "cell_type": "markdown",
   "id": "652bb753",
   "metadata": {},
   "source": [
    "Convert images to tensors:"
   ]
  },
  {
   "cell_type": "code",
   "execution_count": null,
   "id": "aed88ec1",
   "metadata": {
    "execution": {
     "iopub.execute_input": "2022-11-17T00:39:00.393991Z",
     "iopub.status.busy": "2022-11-17T00:39:00.393484Z",
     "iopub.status.idle": "2022-11-17T00:39:00.398119Z",
     "shell.execute_reply": "2022-11-17T00:39:00.397120Z"
    },
    "papermill": {
     "duration": 0.024056,
     "end_time": "2022-11-17T00:39:00.399373",
     "exception": false,
     "start_time": "2022-11-17T00:39:00.375317",
     "status": "completed"
    },
    "tags": []
   },
   "outputs": [],
   "source": [
    "a.narrow_images_t = image_np_to_tensor(np.asarray(a.narrow_images), t.to_tensor)"
   ]
  },
  {
   "cell_type": "markdown",
   "id": "a7feade4",
   "metadata": {},
   "source": [
    "Plot narrow images:"
   ]
  },
  {
   "cell_type": "code",
   "execution_count": null,
   "id": "71402a2c",
   "metadata": {
    "execution": {
     "iopub.execute_input": "2022-11-17T00:39:00.434472Z",
     "iopub.status.busy": "2022-11-17T00:39:00.433939Z",
     "iopub.status.idle": "2022-11-17T00:39:00.438247Z",
     "shell.execute_reply": "2022-11-17T00:39:00.437246Z"
    },
    "papermill": {
     "duration": 0.023647,
     "end_time": "2022-11-17T00:39:00.439536",
     "exception": false,
     "start_time": "2022-11-17T00:39:00.415889",
     "status": "completed"
    },
    "tags": []
   },
   "outputs": [],
   "source": [
    "plot_images(a.narrow_images)"
   ]
  },
  {
   "cell_type": "markdown",
   "id": "09081922",
   "metadata": {},
   "source": [
    "Convert narrow images to wide images:\n",
    "\n",
    "1. Generated embeddings for narrow images using the encoder.\n",
    "2. Add \"make wider\" vector. We can scale this vector by a factor [0..1] to make the cylinder slighly wider, or much wider. \n",
    "   1. We'll scale by 0.6\n",
    "3. Convert the resulting embeddings back to images using the decoder."
   ]
  },
  {
   "cell_type": "code",
   "execution_count": null,
   "id": "c7dbec02",
   "metadata": {},
   "outputs": [],
   "source": [
    "# 1\n",
    "a.narrow_encoded = a.model.encode(a.narrow_images_t.to(t.device))"
   ]
  },
  {
   "cell_type": "code",
   "execution_count": null,
   "id": "c36adde5",
   "metadata": {},
   "outputs": [],
   "source": [
    "# 2\n",
    "a.wider_encoded = a.narrow_encoded + a.wider_vector * 0.6"
   ]
  },
  {
   "cell_type": "code",
   "execution_count": null,
   "id": "f7523961",
   "metadata": {
    "execution": {
     "iopub.execute_input": "2022-11-17T00:39:00.474797Z",
     "iopub.status.busy": "2022-11-17T00:39:00.474491Z",
     "iopub.status.idle": "2022-11-17T00:39:00.478506Z",
     "shell.execute_reply": "2022-11-17T00:39:00.477469Z"
    },
    "papermill": {
     "duration": 0.023641,
     "end_time": "2022-11-17T00:39:00.479800",
     "exception": false,
     "start_time": "2022-11-17T00:39:00.456159",
     "status": "completed"
    },
    "tags": []
   },
   "outputs": [],
   "source": [
    "# 3\n",
    "a.wider_images = a.model.decoder(a.wider_encoded)"
   ]
  },
  {
   "cell_type": "markdown",
   "id": "414f2de4",
   "metadata": {},
   "source": [
    "Display wider images:"
   ]
  },
  {
   "cell_type": "code",
   "execution_count": null,
   "id": "f4e4b03e",
   "metadata": {},
   "outputs": [],
   "source": [
    "plot_images(np.squeeze(a.wider_images.cpu().detach().numpy()))"
   ]
  },
  {
   "cell_type": "code",
   "execution_count": null,
   "id": "aae8e5ee",
   "metadata": {},
   "outputs": [],
   "source": []
  }
 ],
 "metadata": {
  "kernelspec": {
   "display_name": "Python 3 (ipykernel)",
   "language": "python",
   "name": "python3"
  },
  "language_info": {
   "codemirror_mode": {
    "name": "ipython",
    "version": 3
   },
   "file_extension": ".py",
   "mimetype": "text/x-python",
   "name": "python",
   "nbconvert_exporter": "python",
   "pygments_lexer": "ipython3",
   "version": "3.8.13"
  },
  "papermill": {
   "default_parameters": {},
   "duration": 1370.566571,
   "end_time": "2022-11-17T00:39:01.154104",
   "environment_variables": {},
   "exception": null,
   "input_path": "Variational Autoencoder.ipynb",
   "output_path": "output/ae-kl-16.ipynb",
   "parameters": {
    "pm_kl_factor": 16
   },
   "start_time": "2022-11-17T00:16:10.587533",
   "version": "2.4.0"
  },
  "toc": {
   "base_numbering": 1,
   "nav_menu": {},
   "number_sections": true,
   "sideBar": true,
   "skip_h1_title": false,
   "title_cell": "Table of Contents",
   "title_sidebar": "Contents",
   "toc_cell": false,
   "toc_position": {
    "height": "calc(100% - 180px)",
    "left": "10px",
    "top": "150px",
    "width": "241.08px"
   },
   "toc_section_display": true,
   "toc_window_display": true
  },
  "varInspector": {
   "cols": {
    "lenName": 16,
    "lenType": 16,
    "lenVar": 40
   },
   "kernels_config": {
    "python": {
     "delete_cmd_postfix": "",
     "delete_cmd_prefix": "del ",
     "library": "var_list.py",
     "varRefreshCmd": "print(var_dic_list())"
    },
    "r": {
     "delete_cmd_postfix": ") ",
     "delete_cmd_prefix": "rm(",
     "library": "var_list.r",
     "varRefreshCmd": "cat(var_dic_list()) "
    }
   },
   "types_to_exclude": [
    "module",
    "function",
    "builtin_function_or_method",
    "instance",
    "_Feature"
   ],
   "window_display": false
  }
 },
 "nbformat": 4,
 "nbformat_minor": 5
}
