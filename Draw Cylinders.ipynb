{
 "cells": [
  {
   "cell_type": "code",
   "execution_count": null,
   "id": "161b63d1",
   "metadata": {},
   "outputs": [],
   "source": [
    "import sys\n",
    "from PIL import Image, ImageDraw\n",
    "import matplotlib.pyplot as plt\n",
    "import random\n",
    "from typing import List, Tuple\n",
    "import os"
   ]
  },
  {
   "cell_type": "code",
   "execution_count": null,
   "id": "b3581359",
   "metadata": {},
   "outputs": [],
   "source": [
    "class ImageContainer:\n",
    "    def __init__(self, image: Image, wh: Tuple[int, int]):\n",
    "        self.image = image\n",
    "        self.wh = wh\n",
    "        \n",
    "    def save_to_dir(self, image_dir, image_index):\n",
    "        w, h = self.wh\n",
    "        save_path = f\"{image_dir}/image_{image_index}_{w}_{h}.png\"\n",
    "        self.image.save(save_path, cmap=\"gray\")\n",
    "        \n",
    "    def get_image(self) -> Image:\n",
    "        return self.image"
   ]
  },
  {
   "cell_type": "markdown",
   "id": "86a3be5a",
   "metadata": {},
   "source": [
    "### Generate Cylinders"
   ]
  },
  {
   "cell_type": "code",
   "execution_count": null,
   "id": "6cd2ceeb",
   "metadata": {},
   "outputs": [],
   "source": [
    "def draw_cylinder(wh: tuple) -> ImageContainer: \n",
    "    background_color = 0\n",
    "    figure_color = 200\n",
    "    line_thickness = 2\n",
    "    ellipse_h = 10\n",
    "\n",
    "    im = Image.new(\"L\", (64, 64))\n",
    "\n",
    "    draw = ImageDraw.Draw(im)\n",
    "    \n",
    "    draw.rectangle([0, 0, im.size[0], im.size[1]], \n",
    "                   fill=background_color,\n",
    "                   outline=figure_color)\n",
    "    \n",
    "    # Calculate offsets when drawing a bounding rectangle\n",
    "    im_w, im_h = im.size \n",
    "    w, h = wh\n",
    "    x_offset = (im_w - w) / 2\n",
    "    y_offset = (im_h - h) / 2\n",
    "\n",
    "    # Sides\n",
    "    draw.line([x_offset, y_offset, x_offset, y_offset + h], width=line_thickness, fill=figure_color)\n",
    "    draw.line([x_offset + w, y_offset, x_offset + w, y_offset + h], width=line_thickness, fill=figure_color)\n",
    "        \n",
    "    # top ellipse\n",
    "    draw.ellipse([\n",
    "        x_offset, \n",
    "        y_offset - ellipse_h /2,\n",
    "        x_offset + w,\n",
    "        y_offset + ellipse_h / 2], \n",
    "        width=line_thickness,\n",
    "        outline=figure_color)\n",
    "    \n",
    "    # bottom ellipse\n",
    "    draw.ellipse([\n",
    "        x_offset, \n",
    "        y_offset - ellipse_h /2 + h,\n",
    "        x_offset + w,\n",
    "        y_offset + ellipse_h / 2 + h], \n",
    "        width=line_thickness,\n",
    "        outline=figure_color)\n",
    "    \n",
    "    # hide the back side of the bottom ellipse\n",
    "    draw.rectangle([\n",
    "        x_offset + line_thickness , \n",
    "        y_offset - ellipse_h /2 + h,\n",
    "        x_offset + w - line_thickness + 1,\n",
    "        y_offset + h], \n",
    "        fill=background_color, \n",
    "        width=line_thickness)\n",
    "    \n",
    "    # TODO: fill with shade\n",
    "    \n",
    "    return ImageContainer(im, wh)"
   ]
  },
  {
   "cell_type": "code",
   "execution_count": null,
   "id": "bea36c65",
   "metadata": {},
   "outputs": [],
   "source": [
    "def plot_images(images):\n",
    "    fig, axis = plt.subplots(1, len(images), figsize=(20, 5))\n",
    "    for i, img_container in enumerate(images):\n",
    "        ax = axis[i]\n",
    "        ax.axis('off')\n",
    "        ax.imshow(img_container.get_image(), cmap=\"gray\")"
   ]
  },
  {
   "cell_type": "code",
   "execution_count": null,
   "id": "55415986",
   "metadata": {},
   "outputs": [],
   "source": [
    "def generate_cylinders(count, w_range, h_range) -> List[ImageContainer]:\n",
    "    images = []\n",
    "    for _ in range(count):\n",
    "        w = random.randint(w_range[0], w_range[1])\n",
    "        h = random.randint(h_range[0], h_range[1])\n",
    "        images.append(draw_cylinder((w, h)))\n",
    "    return images"
   ]
  },
  {
   "cell_type": "code",
   "execution_count": null,
   "id": "eba6891e",
   "metadata": {},
   "outputs": [],
   "source": [
    "images = generate_cylinders(2000, (15, 45), (15, 45))\n",
    "plot_images(images[0 : 10])"
   ]
  },
  {
   "cell_type": "code",
   "execution_count": null,
   "id": "2fdda890",
   "metadata": {},
   "outputs": [],
   "source": [
    "def save_images(output_folder, images):\n",
    "    os.makedirs(output_folder, exist_ok=True)\n",
    "    for i, img in enumerate(images):\n",
    "        img.save_to_dir(output_folder, i)"
   ]
  },
  {
   "cell_type": "code",
   "execution_count": null,
   "id": "7782c475",
   "metadata": {},
   "outputs": [],
   "source": [
    "save_images(\"images/_cylinders\", images)"
   ]
  },
  {
   "cell_type": "code",
   "execution_count": null,
   "id": "2a66590d",
   "metadata": {},
   "outputs": [],
   "source": [
    "# ! rm -rf images/_cylinders"
   ]
  },
  {
   "cell_type": "code",
   "execution_count": null,
   "id": "597d4ad4",
   "metadata": {},
   "outputs": [],
   "source": []
  }
 ],
 "metadata": {
  "kernelspec": {
   "display_name": "Python 3 (ipykernel)",
   "language": "python",
   "name": "python3"
  },
  "language_info": {
   "codemirror_mode": {
    "name": "ipython",
    "version": 3
   },
   "file_extension": ".py",
   "mimetype": "text/x-python",
   "name": "python",
   "nbconvert_exporter": "python",
   "pygments_lexer": "ipython3",
   "version": "3.8.13"
  },
  "toc": {
   "base_numbering": 1,
   "nav_menu": {},
   "number_sections": true,
   "sideBar": true,
   "skip_h1_title": false,
   "title_cell": "Table of Contents",
   "title_sidebar": "Contents",
   "toc_cell": false,
   "toc_position": {},
   "toc_section_display": true,
   "toc_window_display": false
  },
  "varInspector": {
   "cols": {
    "lenName": 16,
    "lenType": 16,
    "lenVar": 40
   },
   "kernels_config": {
    "python": {
     "delete_cmd_postfix": "",
     "delete_cmd_prefix": "del ",
     "library": "var_list.py",
     "varRefreshCmd": "print(var_dic_list())"
    },
    "r": {
     "delete_cmd_postfix": ") ",
     "delete_cmd_prefix": "rm(",
     "library": "var_list.r",
     "varRefreshCmd": "cat(var_dic_list()) "
    }
   },
   "types_to_exclude": [
    "module",
    "function",
    "builtin_function_or_method",
    "instance",
    "_Feature"
   ],
   "window_display": false
  }
 },
 "nbformat": 4,
 "nbformat_minor": 5
}
